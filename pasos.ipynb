{
 "cells": [
  {
   "cell_type": "markdown",
   "metadata": {},
   "source": [
    "extracc características para imags repo y guardar en bd"
   ]
  },
  {
   "cell_type": "markdown",
   "metadata": {},
   "source": [
    "recibimos imag + extracc características (caracteristicas.py)"
   ]
  },
  {
   "cell_type": "code",
   "execution_count": null,
   "metadata": {},
   "outputs": [],
   "source": [
    "filename1 = \"templates\\static\\pug.jpeg\"\n",
    "img = leer_img(filename1)\n",
    "c = caract(img)"
   ]
  },
  {
   "cell_type": "markdown",
   "metadata": {},
   "source": [
    "comparamos caract imag con todas imags (distancia.py)"
   ]
  },
  {
   "cell_type": "code",
   "execution_count": null,
   "metadata": {},
   "outputs": [],
   "source": [
    "c = caract image recibida\n",
    "for i in images: #asumiendo que images es un vector de vectores de caract\n",
    "    # d = distancia(c,i)\n",
    "    # list += [d]\n",
    "    pass\n",
    "list_sorted = ordenar list por orden decreciente"
   ]
  },
  {
   "cell_type": "code",
   "execution_count": null,
   "metadata": {},
   "outputs": [],
   "source": [
    "num_imag = cuántas queremos mostrar\n",
    "for i in list_sorted[:num_imag]:\n",
    "    recurperar i "
   ]
  }
 ],
 "metadata": {
  "language_info": {
   "name": "python"
  }
 },
 "nbformat": 4,
 "nbformat_minor": 2
}
